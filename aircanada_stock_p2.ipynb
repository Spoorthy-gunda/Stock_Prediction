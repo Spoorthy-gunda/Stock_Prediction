{
  "nbformat": 4,
  "nbformat_minor": 0,
  "metadata": {
    "colab": {
      "name": "aircanada_stock_p2.ipynb",
      "provenance": [],
      "authorship_tag": "ABX9TyM9RBnvzOu2GE7ba77tHNNB",
      "include_colab_link": true
    },
    "kernelspec": {
      "name": "python3",
      "display_name": "Python 3"
    },
    "language_info": {
      "name": "python"
    },
    "accelerator": "GPU"
  },
  "cells": [
    {
      "cell_type": "markdown",
      "metadata": {
        "id": "view-in-github",
        "colab_type": "text"
      },
      "source": [
        "<a href=\"https://colab.research.google.com/github/Spoorthy-gunda/Stock_Prediction/blob/main/aircanada_stock_p2.ipynb\" target=\"_parent\"><img src=\"https://colab.research.google.com/assets/colab-badge.svg\" alt=\"Open In Colab\"/></a>"
      ]
    },
    {
      "cell_type": "code",
      "metadata": {
        "colab": {
          "base_uri": "https://localhost:8080/",
          "height": 282
        },
        "id": "BJh9E4S6n5pc",
        "outputId": "47ba5c8b-5d61-48fa-fab5-02796e13c039"
      },
      "source": [
        "import keras\n",
        "import numpy as np\n",
        "from keras.datasets import cifar10\n",
        "from keras.preprocessing.image import ImageDataGenerator\n",
        "from keras.models import Sequential\n",
        "from keras.layers import Dense, Dropout, Activation, Flatten, LSTM\n",
        "from keras.initializers import RandomNormal  \n",
        "from keras import optimizers\n",
        "from keras.callbacks import LearningRateScheduler, TensorBoard\n",
        "from keras.layers.normalization import BatchNormalization\n",
        "import matplotlib.pyplot as plt\n",
        "import csv\n",
        "import pandas as pd\n",
        "\n",
        "\n",
        "\n",
        "data=pd.read_csv(\"/content/AC.TO_from2010.csv\")\n",
        "data.describe()\n",
        "\n"
      ],
      "execution_count": 1,
      "outputs": [
        {
          "output_type": "execute_result",
          "data": {
            "text/html": [
              "<div>\n",
              "<style scoped>\n",
              "    .dataframe tbody tr th:only-of-type {\n",
              "        vertical-align: middle;\n",
              "    }\n",
              "\n",
              "    .dataframe tbody tr th {\n",
              "        vertical-align: top;\n",
              "    }\n",
              "\n",
              "    .dataframe thead th {\n",
              "        text-align: right;\n",
              "    }\n",
              "</style>\n",
              "<table border=\"1\" class=\"dataframe\">\n",
              "  <thead>\n",
              "    <tr style=\"text-align: right;\">\n",
              "      <th></th>\n",
              "      <th>Open</th>\n",
              "      <th>High</th>\n",
              "      <th>Low</th>\n",
              "      <th>Close</th>\n",
              "      <th>Adj Close</th>\n",
              "      <th>Volume</th>\n",
              "    </tr>\n",
              "  </thead>\n",
              "  <tbody>\n",
              "    <tr>\n",
              "      <th>count</th>\n",
              "      <td>2758.000000</td>\n",
              "      <td>2758.000000</td>\n",
              "      <td>2758.000000</td>\n",
              "      <td>2758.000000</td>\n",
              "      <td>2758.000000</td>\n",
              "      <td>2.758000e+03</td>\n",
              "    </tr>\n",
              "    <tr>\n",
              "      <th>mean</th>\n",
              "      <td>14.003894</td>\n",
              "      <td>14.236806</td>\n",
              "      <td>13.762893</td>\n",
              "      <td>13.999126</td>\n",
              "      <td>13.999126</td>\n",
              "      <td>2.040237e+06</td>\n",
              "    </tr>\n",
              "    <tr>\n",
              "      <th>std</th>\n",
              "      <td>12.384356</td>\n",
              "      <td>12.570921</td>\n",
              "      <td>12.217991</td>\n",
              "      <td>12.396405</td>\n",
              "      <td>12.396405</td>\n",
              "      <td>2.181328e+06</td>\n",
              "    </tr>\n",
              "    <tr>\n",
              "      <th>min</th>\n",
              "      <td>0.800000</td>\n",
              "      <td>0.830000</td>\n",
              "      <td>0.780000</td>\n",
              "      <td>0.820000</td>\n",
              "      <td>0.820000</td>\n",
              "      <td>0.000000e+00</td>\n",
              "    </tr>\n",
              "    <tr>\n",
              "      <th>25%</th>\n",
              "      <td>2.782500</td>\n",
              "      <td>2.832500</td>\n",
              "      <td>2.730000</td>\n",
              "      <td>2.800000</td>\n",
              "      <td>2.800000</td>\n",
              "      <td>8.309250e+05</td>\n",
              "    </tr>\n",
              "    <tr>\n",
              "      <th>50%</th>\n",
              "      <td>10.905000</td>\n",
              "      <td>11.095000</td>\n",
              "      <td>10.650000</td>\n",
              "      <td>10.890000</td>\n",
              "      <td>10.890000</td>\n",
              "      <td>1.320350e+06</td>\n",
              "    </tr>\n",
              "    <tr>\n",
              "      <th>75%</th>\n",
              "      <td>22.920000</td>\n",
              "      <td>23.240000</td>\n",
              "      <td>22.497500</td>\n",
              "      <td>22.905000</td>\n",
              "      <td>22.905000</td>\n",
              "      <td>2.418275e+06</td>\n",
              "    </tr>\n",
              "    <tr>\n",
              "      <th>max</th>\n",
              "      <td>52.029999</td>\n",
              "      <td>52.709999</td>\n",
              "      <td>51.560001</td>\n",
              "      <td>52.090000</td>\n",
              "      <td>52.090000</td>\n",
              "      <td>2.715840e+07</td>\n",
              "    </tr>\n",
              "  </tbody>\n",
              "</table>\n",
              "</div>"
            ],
            "text/plain": [
              "              Open         High  ...    Adj Close        Volume\n",
              "count  2758.000000  2758.000000  ...  2758.000000  2.758000e+03\n",
              "mean     14.003894    14.236806  ...    13.999126  2.040237e+06\n",
              "std      12.384356    12.570921  ...    12.396405  2.181328e+06\n",
              "min       0.800000     0.830000  ...     0.820000  0.000000e+00\n",
              "25%       2.782500     2.832500  ...     2.800000  8.309250e+05\n",
              "50%      10.905000    11.095000  ...    10.890000  1.320350e+06\n",
              "75%      22.920000    23.240000  ...    22.905000  2.418275e+06\n",
              "max      52.029999    52.709999  ...    52.090000  2.715840e+07\n",
              "\n",
              "[8 rows x 6 columns]"
            ]
          },
          "metadata": {
            "tags": []
          },
          "execution_count": 1
        }
      ]
    },
    {
      "cell_type": "code",
      "metadata": {
        "colab": {
          "base_uri": "https://localhost:8080/",
          "height": 194
        },
        "id": "5lr-cj5XpIuf",
        "outputId": "c6953b3c-769e-477f-bb09-3327b4729d3f"
      },
      "source": [
        "data.head()"
      ],
      "execution_count": 2,
      "outputs": [
        {
          "output_type": "execute_result",
          "data": {
            "text/html": [
              "<div>\n",
              "<style scoped>\n",
              "    .dataframe tbody tr th:only-of-type {\n",
              "        vertical-align: middle;\n",
              "    }\n",
              "\n",
              "    .dataframe tbody tr th {\n",
              "        vertical-align: top;\n",
              "    }\n",
              "\n",
              "    .dataframe thead th {\n",
              "        text-align: right;\n",
              "    }\n",
              "</style>\n",
              "<table border=\"1\" class=\"dataframe\">\n",
              "  <thead>\n",
              "    <tr style=\"text-align: right;\">\n",
              "      <th></th>\n",
              "      <th>Date</th>\n",
              "      <th>Open</th>\n",
              "      <th>High</th>\n",
              "      <th>Low</th>\n",
              "      <th>Close</th>\n",
              "      <th>Adj Close</th>\n",
              "      <th>Volume</th>\n",
              "    </tr>\n",
              "  </thead>\n",
              "  <tbody>\n",
              "    <tr>\n",
              "      <th>0</th>\n",
              "      <td>2010-04-28</td>\n",
              "      <td>2.42</td>\n",
              "      <td>2.43</td>\n",
              "      <td>2.35</td>\n",
              "      <td>2.35</td>\n",
              "      <td>2.35</td>\n",
              "      <td>347400.0</td>\n",
              "    </tr>\n",
              "    <tr>\n",
              "      <th>1</th>\n",
              "      <td>2010-04-29</td>\n",
              "      <td>2.34</td>\n",
              "      <td>2.35</td>\n",
              "      <td>2.25</td>\n",
              "      <td>2.25</td>\n",
              "      <td>2.25</td>\n",
              "      <td>1156100.0</td>\n",
              "    </tr>\n",
              "    <tr>\n",
              "      <th>2</th>\n",
              "      <td>2010-04-30</td>\n",
              "      <td>2.25</td>\n",
              "      <td>2.31</td>\n",
              "      <td>2.22</td>\n",
              "      <td>2.23</td>\n",
              "      <td>2.23</td>\n",
              "      <td>743000.0</td>\n",
              "    </tr>\n",
              "    <tr>\n",
              "      <th>3</th>\n",
              "      <td>2010-05-03</td>\n",
              "      <td>2.21</td>\n",
              "      <td>2.28</td>\n",
              "      <td>2.21</td>\n",
              "      <td>2.25</td>\n",
              "      <td>2.25</td>\n",
              "      <td>621700.0</td>\n",
              "    </tr>\n",
              "    <tr>\n",
              "      <th>4</th>\n",
              "      <td>2010-05-04</td>\n",
              "      <td>2.24</td>\n",
              "      <td>2.24</td>\n",
              "      <td>2.09</td>\n",
              "      <td>2.17</td>\n",
              "      <td>2.17</td>\n",
              "      <td>1030500.0</td>\n",
              "    </tr>\n",
              "  </tbody>\n",
              "</table>\n",
              "</div>"
            ],
            "text/plain": [
              "         Date  Open  High   Low  Close  Adj Close     Volume\n",
              "0  2010-04-28  2.42  2.43  2.35   2.35       2.35   347400.0\n",
              "1  2010-04-29  2.34  2.35  2.25   2.25       2.25  1156100.0\n",
              "2  2010-04-30  2.25  2.31  2.22   2.23       2.23   743000.0\n",
              "3  2010-05-03  2.21  2.28  2.21   2.25       2.25   621700.0\n",
              "4  2010-05-04  2.24  2.24  2.09   2.17       2.17  1030500.0"
            ]
          },
          "metadata": {
            "tags": []
          },
          "execution_count": 2
        }
      ]
    },
    {
      "cell_type": "code",
      "metadata": {
        "colab": {
          "base_uri": "https://localhost:8080/",
          "height": 194
        },
        "id": "AELgT9GHpPaW",
        "outputId": "6ea459b8-fe52-4fa8-c5b9-36d0531dd5bb"
      },
      "source": [
        "data.tail()"
      ],
      "execution_count": 3,
      "outputs": [
        {
          "output_type": "execute_result",
          "data": {
            "text/html": [
              "<div>\n",
              "<style scoped>\n",
              "    .dataframe tbody tr th:only-of-type {\n",
              "        vertical-align: middle;\n",
              "    }\n",
              "\n",
              "    .dataframe tbody tr th {\n",
              "        vertical-align: top;\n",
              "    }\n",
              "\n",
              "    .dataframe thead th {\n",
              "        text-align: right;\n",
              "    }\n",
              "</style>\n",
              "<table border=\"1\" class=\"dataframe\">\n",
              "  <thead>\n",
              "    <tr style=\"text-align: right;\">\n",
              "      <th></th>\n",
              "      <th>Date</th>\n",
              "      <th>Open</th>\n",
              "      <th>High</th>\n",
              "      <th>Low</th>\n",
              "      <th>Close</th>\n",
              "      <th>Adj Close</th>\n",
              "      <th>Volume</th>\n",
              "    </tr>\n",
              "  </thead>\n",
              "  <tbody>\n",
              "    <tr>\n",
              "      <th>2755</th>\n",
              "      <td>2021-04-21</td>\n",
              "      <td>23.180000</td>\n",
              "      <td>23.850000</td>\n",
              "      <td>22.700001</td>\n",
              "      <td>23.639999</td>\n",
              "      <td>23.639999</td>\n",
              "      <td>3685400.0</td>\n",
              "    </tr>\n",
              "    <tr>\n",
              "      <th>2756</th>\n",
              "      <td>2021-04-22</td>\n",
              "      <td>23.760000</td>\n",
              "      <td>24.850000</td>\n",
              "      <td>23.650000</td>\n",
              "      <td>24.690001</td>\n",
              "      <td>24.690001</td>\n",
              "      <td>4601400.0</td>\n",
              "    </tr>\n",
              "    <tr>\n",
              "      <th>2757</th>\n",
              "      <td>2021-04-23</td>\n",
              "      <td>24.770000</td>\n",
              "      <td>25.190001</td>\n",
              "      <td>24.600000</td>\n",
              "      <td>25.070000</td>\n",
              "      <td>25.070000</td>\n",
              "      <td>2922300.0</td>\n",
              "    </tr>\n",
              "    <tr>\n",
              "      <th>2758</th>\n",
              "      <td>2021-04-26</td>\n",
              "      <td>25.320000</td>\n",
              "      <td>25.879999</td>\n",
              "      <td>25.190001</td>\n",
              "      <td>25.760000</td>\n",
              "      <td>25.760000</td>\n",
              "      <td>2969200.0</td>\n",
              "    </tr>\n",
              "    <tr>\n",
              "      <th>2759</th>\n",
              "      <td>2021-04-27</td>\n",
              "      <td>25.870001</td>\n",
              "      <td>25.870001</td>\n",
              "      <td>25.430000</td>\n",
              "      <td>25.740000</td>\n",
              "      <td>25.740000</td>\n",
              "      <td>2501400.0</td>\n",
              "    </tr>\n",
              "  </tbody>\n",
              "</table>\n",
              "</div>"
            ],
            "text/plain": [
              "            Date       Open       High  ...      Close  Adj Close     Volume\n",
              "2755  2021-04-21  23.180000  23.850000  ...  23.639999  23.639999  3685400.0\n",
              "2756  2021-04-22  23.760000  24.850000  ...  24.690001  24.690001  4601400.0\n",
              "2757  2021-04-23  24.770000  25.190001  ...  25.070000  25.070000  2922300.0\n",
              "2758  2021-04-26  25.320000  25.879999  ...  25.760000  25.760000  2969200.0\n",
              "2759  2021-04-27  25.870001  25.870001  ...  25.740000  25.740000  2501400.0\n",
              "\n",
              "[5 rows x 7 columns]"
            ]
          },
          "metadata": {
            "tags": []
          },
          "execution_count": 3
        }
      ]
    },
    {
      "cell_type": "code",
      "metadata": {
        "colab": {
          "base_uri": "https://localhost:8080/"
        },
        "id": "fv61_Swzr0Fw",
        "outputId": "acf766d6-b17d-43d1-a98d-1fb4c718817d"
      },
      "source": [
        "data.info()"
      ],
      "execution_count": 4,
      "outputs": [
        {
          "output_type": "stream",
          "text": [
            "<class 'pandas.core.frame.DataFrame'>\n",
            "RangeIndex: 2760 entries, 0 to 2759\n",
            "Data columns (total 7 columns):\n",
            " #   Column     Non-Null Count  Dtype  \n",
            "---  ------     --------------  -----  \n",
            " 0   Date       2760 non-null   object \n",
            " 1   Open       2758 non-null   float64\n",
            " 2   High       2758 non-null   float64\n",
            " 3   Low        2758 non-null   float64\n",
            " 4   Close      2758 non-null   float64\n",
            " 5   Adj Close  2758 non-null   float64\n",
            " 6   Volume     2758 non-null   float64\n",
            "dtypes: float64(6), object(1)\n",
            "memory usage: 151.1+ KB\n"
          ],
          "name": "stdout"
        }
      ]
    },
    {
      "cell_type": "code",
      "metadata": {
        "colab": {
          "base_uri": "https://localhost:8080/"
        },
        "id": "Lz0d6qExry1b",
        "outputId": "00ae7df9-7579-4cd0-ce00-1091fa5b5855"
      },
      "source": [
        "data.isnull().sum()"
      ],
      "execution_count": 5,
      "outputs": [
        {
          "output_type": "execute_result",
          "data": {
            "text/plain": [
              "Date         0\n",
              "Open         2\n",
              "High         2\n",
              "Low          2\n",
              "Close        2\n",
              "Adj Close    2\n",
              "Volume       2\n",
              "dtype: int64"
            ]
          },
          "metadata": {
            "tags": []
          },
          "execution_count": 5
        }
      ]
    },
    {
      "cell_type": "markdown",
      "metadata": {
        "id": "2gaa5asIyNWA"
      },
      "source": [
        "Since the number of null entries is same for every column, it is possible that the the null entries belong to the same rows. We can check this by the following code."
      ]
    },
    {
      "cell_type": "code",
      "metadata": {
        "colab": {
          "base_uri": "https://localhost:8080/"
        },
        "id": "fdXsg902vpyT",
        "outputId": "92a8cf98-f0b7-405a-c1e0-2cf03b26d003"
      },
      "source": [
        "data=data.dropna(how='any')\n",
        "data.info()"
      ],
      "execution_count": 6,
      "outputs": [
        {
          "output_type": "stream",
          "text": [
            "<class 'pandas.core.frame.DataFrame'>\n",
            "Int64Index: 2758 entries, 0 to 2759\n",
            "Data columns (total 7 columns):\n",
            " #   Column     Non-Null Count  Dtype  \n",
            "---  ------     --------------  -----  \n",
            " 0   Date       2758 non-null   object \n",
            " 1   Open       2758 non-null   float64\n",
            " 2   High       2758 non-null   float64\n",
            " 3   Low        2758 non-null   float64\n",
            " 4   Close      2758 non-null   float64\n",
            " 5   Adj Close  2758 non-null   float64\n",
            " 6   Volume     2758 non-null   float64\n",
            "dtypes: float64(6), object(1)\n",
            "memory usage: 172.4+ KB\n"
          ],
          "name": "stdout"
        }
      ]
    },
    {
      "cell_type": "markdown",
      "metadata": {
        "id": "o8RKO_mpAT9P"
      },
      "source": [
        "The above code deletes the rows which has at least on null entry. After deleting such rowns we can observe that null values are present only on two rowshence we can safely delete those two rows."
      ]
    },
    {
      "cell_type": "code",
      "metadata": {
        "colab": {
          "base_uri": "https://localhost:8080/",
          "height": 223
        },
        "id": "giD4ptsPpI7M",
        "outputId": "2decd3ee-91a2-4db7-9fbb-daa2b9d23859"
      },
      "source": [
        "data.corr()"
      ],
      "execution_count": 7,
      "outputs": [
        {
          "output_type": "execute_result",
          "data": {
            "text/html": [
              "<div>\n",
              "<style scoped>\n",
              "    .dataframe tbody tr th:only-of-type {\n",
              "        vertical-align: middle;\n",
              "    }\n",
              "\n",
              "    .dataframe tbody tr th {\n",
              "        vertical-align: top;\n",
              "    }\n",
              "\n",
              "    .dataframe thead th {\n",
              "        text-align: right;\n",
              "    }\n",
              "</style>\n",
              "<table border=\"1\" class=\"dataframe\">\n",
              "  <thead>\n",
              "    <tr style=\"text-align: right;\">\n",
              "      <th></th>\n",
              "      <th>Open</th>\n",
              "      <th>High</th>\n",
              "      <th>Low</th>\n",
              "      <th>Close</th>\n",
              "      <th>Adj Close</th>\n",
              "      <th>Volume</th>\n",
              "    </tr>\n",
              "  </thead>\n",
              "  <tbody>\n",
              "    <tr>\n",
              "      <th>Open</th>\n",
              "      <td>1.000000</td>\n",
              "      <td>0.999718</td>\n",
              "      <td>0.999585</td>\n",
              "      <td>0.999440</td>\n",
              "      <td>0.999440</td>\n",
              "      <td>0.047862</td>\n",
              "    </tr>\n",
              "    <tr>\n",
              "      <th>High</th>\n",
              "      <td>0.999718</td>\n",
              "      <td>1.000000</td>\n",
              "      <td>0.999470</td>\n",
              "      <td>0.999740</td>\n",
              "      <td>0.999740</td>\n",
              "      <td>0.054342</td>\n",
              "    </tr>\n",
              "    <tr>\n",
              "      <th>Low</th>\n",
              "      <td>0.999585</td>\n",
              "      <td>0.999470</td>\n",
              "      <td>1.000000</td>\n",
              "      <td>0.999711</td>\n",
              "      <td>0.999711</td>\n",
              "      <td>0.037188</td>\n",
              "    </tr>\n",
              "    <tr>\n",
              "      <th>Close</th>\n",
              "      <td>0.999440</td>\n",
              "      <td>0.999740</td>\n",
              "      <td>0.999711</td>\n",
              "      <td>1.000000</td>\n",
              "      <td>1.000000</td>\n",
              "      <td>0.046175</td>\n",
              "    </tr>\n",
              "    <tr>\n",
              "      <th>Adj Close</th>\n",
              "      <td>0.999440</td>\n",
              "      <td>0.999740</td>\n",
              "      <td>0.999711</td>\n",
              "      <td>1.000000</td>\n",
              "      <td>1.000000</td>\n",
              "      <td>0.046175</td>\n",
              "    </tr>\n",
              "    <tr>\n",
              "      <th>Volume</th>\n",
              "      <td>0.047862</td>\n",
              "      <td>0.054342</td>\n",
              "      <td>0.037188</td>\n",
              "      <td>0.046175</td>\n",
              "      <td>0.046175</td>\n",
              "      <td>1.000000</td>\n",
              "    </tr>\n",
              "  </tbody>\n",
              "</table>\n",
              "</div>"
            ],
            "text/plain": [
              "               Open      High       Low     Close  Adj Close    Volume\n",
              "Open       1.000000  0.999718  0.999585  0.999440   0.999440  0.047862\n",
              "High       0.999718  1.000000  0.999470  0.999740   0.999740  0.054342\n",
              "Low        0.999585  0.999470  1.000000  0.999711   0.999711  0.037188\n",
              "Close      0.999440  0.999740  0.999711  1.000000   1.000000  0.046175\n",
              "Adj Close  0.999440  0.999740  0.999711  1.000000   1.000000  0.046175\n",
              "Volume     0.047862  0.054342  0.037188  0.046175   0.046175  1.000000"
            ]
          },
          "metadata": {
            "tags": []
          },
          "execution_count": 7
        }
      ]
    },
    {
      "cell_type": "code",
      "metadata": {
        "colab": {
          "base_uri": "https://localhost:8080/"
        },
        "id": "fiju8qz-pJfD",
        "outputId": "a9794c52-6aef-4190-bdb0-e3afdd9d3864"
      },
      "source": [
        "data.columns"
      ],
      "execution_count": 8,
      "outputs": [
        {
          "output_type": "execute_result",
          "data": {
            "text/plain": [
              "Index(['Date', 'Open', 'High', 'Low', 'Close', 'Adj Close', 'Volume'], dtype='object')"
            ]
          },
          "metadata": {
            "tags": []
          },
          "execution_count": 8
        }
      ]
    },
    {
      "cell_type": "markdown",
      "metadata": {
        "id": "ocA_jXpRKJCX"
      },
      "source": [
        "We will consider the high prices everyday and predict the prices in the future. Let us train a model that looks into the high prices of one stock for the past 60 days and predicts the next day high price. For this let us first create the dataset and split into train and test sets."
      ]
    },
    {
      "cell_type": "code",
      "metadata": {
        "colab": {
          "base_uri": "https://localhost:8080/"
        },
        "id": "xXHuZckiKIqI",
        "outputId": "be842728-0558-4342-ab08-5727ecec78e6"
      },
      "source": [
        "data_n=data['High']\n",
        "data_n[0]"
      ],
      "execution_count": 9,
      "outputs": [
        {
          "output_type": "execute_result",
          "data": {
            "text/plain": [
              "2.43"
            ]
          },
          "metadata": {
            "tags": []
          },
          "execution_count": 9
        }
      ]
    },
    {
      "cell_type": "markdown",
      "metadata": {
        "id": "SkXo7FrGIqQs"
      },
      "source": [
        "We will now create the training data with high prices of 60 days per data point with target being the high price on 61st day."
      ]
    },
    {
      "cell_type": "code",
      "metadata": {
        "colab": {
          "base_uri": "https://localhost:8080/"
        },
        "id": "59N3a_CyGY81",
        "outputId": "75a642f8-a098-4507-e63f-03a54a7685de"
      },
      "source": [
        "X=[]\n",
        "Y=[]\n",
        "for i in range (0,len(data_n)-60):\n",
        "  X.append(data_n[i:i+60])\n",
        "  Y.append(data_n[i+60])\n",
        "X=np.array(X)\n",
        "Y=np.array(Y)\n",
        "\n",
        "X = np.reshape(X, (X.shape[0], X.shape[1], 1))\n",
        "X.shape"
      ],
      "execution_count": 10,
      "outputs": [
        {
          "output_type": "execute_result",
          "data": {
            "text/plain": [
              "(2698, 60, 1)"
            ]
          },
          "metadata": {
            "tags": []
          },
          "execution_count": 10
        }
      ]
    },
    {
      "cell_type": "markdown",
      "metadata": {
        "id": "iYUE8QoJdZXL"
      },
      "source": [
        "Let us now split the dataset to train and test sets. We split the first 2100 datapoints as the train and the remaining as test"
      ]
    },
    {
      "cell_type": "code",
      "metadata": {
        "id": "DTN2yOChdA4G",
        "colab": {
          "base_uri": "https://localhost:8080/"
        },
        "outputId": "ec6be435-e0df-4445-e639-dc4e345a6d55"
      },
      "source": [
        "# from sklearn.model_selection import train_test_split\n",
        "X_train= X[0:2100,:,:]\n",
        "Y_train= Y[0:2100]\n",
        "X_test=X[2100:,:,:]\n",
        "Y_test=Y[2100:]\n",
        "# X_test= np.concatenate((X[0:350,:,:],X[2250:2698,:,:]))\n",
        "# Y_test= np.concatenate((Y[0:250],Y[2250:2698]))\n",
        "print(X_test.shape,Y_test.shape)\n"
      ],
      "execution_count": 11,
      "outputs": [
        {
          "output_type": "stream",
          "text": [
            "(598, 60, 1) (598,)\n"
          ],
          "name": "stdout"
        }
      ]
    },
    {
      "cell_type": "markdown",
      "metadata": {
        "id": "jRtNX9_feL1A"
      },
      "source": [
        ""
      ]
    },
    {
      "cell_type": "code",
      "metadata": {
        "colab": {
          "base_uri": "https://localhost:8080/",
          "height": 1000
        },
        "id": "zlWeWt7seKBl",
        "outputId": "7bd52926-45a1-438f-8aa0-15e28650d602"
      },
      "source": [
        "model=Sequential()\n",
        "model.add(LSTM(120, activation='tanh', kernel_initializer='glorot_uniform', return_sequences=True))\n",
        "model.add(LSTM(120, activation='tanh', kernel_initializer='glorot_uniform', return_sequences=False)) \n",
        "# model.add(LSTM(120, activation='tanh', kernel_initializer='glorot_uniform', return_sequences=False))  \n",
        "model.add(Dense(1))\n",
        "model.compile(optimizer='adam',loss='mean_squared_error')\n",
        "\n",
        "\n",
        "history=model.fit(X_train, Y_train,batch_size=50,epochs=100, validation_data=(X_test, Y_test), shuffle=True)\n",
        "\n",
        "model.save('mnist_lenet.h5')\n",
        "plt.plot(history.history['loss'])\n",
        "plt.plot(history.history['val_loss'])\n",
        "plt.legend(['train', 'val'])\n",
        "plt.show()\n",
        "\n",
        "\n",
        "\n"
      ],
      "execution_count": 12,
      "outputs": [
        {
          "output_type": "stream",
          "text": [
            "Epoch 1/100\n",
            "42/42 [==============================] - 6s 42ms/step - loss: 81.1464 - val_loss: 355.9596\n",
            "Epoch 2/100\n",
            "42/42 [==============================] - 0s 10ms/step - loss: 10.2939 - val_loss: 256.4572\n",
            "Epoch 3/100\n",
            "42/42 [==============================] - 0s 10ms/step - loss: 4.1175 - val_loss: 201.4874\n",
            "Epoch 4/100\n",
            "42/42 [==============================] - 0s 10ms/step - loss: 1.4974 - val_loss: 172.3189\n",
            "Epoch 5/100\n",
            "42/42 [==============================] - 0s 10ms/step - loss: 0.7895 - val_loss: 157.4306\n",
            "Epoch 6/100\n",
            "42/42 [==============================] - 0s 10ms/step - loss: 0.4629 - val_loss: 147.3694\n",
            "Epoch 7/100\n",
            "42/42 [==============================] - 0s 10ms/step - loss: 0.3199 - val_loss: 139.9588\n",
            "Epoch 8/100\n",
            "42/42 [==============================] - 0s 10ms/step - loss: 0.1772 - val_loss: 133.8855\n",
            "Epoch 9/100\n",
            "42/42 [==============================] - 0s 10ms/step - loss: 0.1793 - val_loss: 128.7992\n",
            "Epoch 10/100\n",
            "42/42 [==============================] - 0s 10ms/step - loss: 0.0934 - val_loss: 125.4942\n",
            "Epoch 11/100\n",
            "42/42 [==============================] - 0s 10ms/step - loss: 0.0810 - val_loss: 122.2828\n",
            "Epoch 12/100\n",
            "42/42 [==============================] - 0s 10ms/step - loss: 0.0777 - val_loss: 119.7625\n",
            "Epoch 13/100\n",
            "42/42 [==============================] - 0s 10ms/step - loss: 0.0831 - val_loss: 117.8869\n",
            "Epoch 14/100\n",
            "42/42 [==============================] - 0s 10ms/step - loss: 0.0657 - val_loss: 115.9839\n",
            "Epoch 15/100\n",
            "42/42 [==============================] - 0s 10ms/step - loss: 0.0561 - val_loss: 114.3661\n",
            "Epoch 16/100\n",
            "42/42 [==============================] - 0s 10ms/step - loss: 0.0417 - val_loss: 112.8917\n",
            "Epoch 17/100\n",
            "42/42 [==============================] - 0s 10ms/step - loss: 0.0323 - val_loss: 111.5953\n",
            "Epoch 18/100\n",
            "42/42 [==============================] - 0s 10ms/step - loss: 0.0358 - val_loss: 110.5260\n",
            "Epoch 19/100\n",
            "42/42 [==============================] - 0s 10ms/step - loss: 0.0370 - val_loss: 109.4738\n",
            "Epoch 20/100\n",
            "42/42 [==============================] - 0s 10ms/step - loss: 0.0702 - val_loss: 108.6278\n",
            "Epoch 21/100\n",
            "42/42 [==============================] - 0s 10ms/step - loss: 0.0361 - val_loss: 107.6318\n",
            "Epoch 22/100\n",
            "42/42 [==============================] - 0s 10ms/step - loss: 0.0254 - val_loss: 106.8544\n",
            "Epoch 23/100\n",
            "42/42 [==============================] - 0s 10ms/step - loss: 0.0308 - val_loss: 106.1331\n",
            "Epoch 24/100\n",
            "42/42 [==============================] - 0s 11ms/step - loss: 0.0362 - val_loss: 105.4384\n",
            "Epoch 25/100\n",
            "42/42 [==============================] - 0s 10ms/step - loss: 0.0255 - val_loss: 104.8005\n",
            "Epoch 26/100\n",
            "42/42 [==============================] - 0s 10ms/step - loss: 0.0227 - val_loss: 104.0945\n",
            "Epoch 27/100\n",
            "42/42 [==============================] - 0s 10ms/step - loss: 0.0175 - val_loss: 103.6590\n",
            "Epoch 28/100\n",
            "42/42 [==============================] - 0s 10ms/step - loss: 0.0285 - val_loss: 102.9167\n",
            "Epoch 29/100\n",
            "42/42 [==============================] - 0s 10ms/step - loss: 0.0368 - val_loss: 102.4866\n",
            "Epoch 30/100\n",
            "42/42 [==============================] - 0s 10ms/step - loss: 0.0428 - val_loss: 102.1597\n",
            "Epoch 31/100\n",
            "42/42 [==============================] - 0s 10ms/step - loss: 0.0370 - val_loss: 101.6874\n",
            "Epoch 32/100\n",
            "42/42 [==============================] - 0s 10ms/step - loss: 0.0165 - val_loss: 101.1587\n",
            "Epoch 33/100\n",
            "42/42 [==============================] - 0s 10ms/step - loss: 0.0223 - val_loss: 100.6563\n",
            "Epoch 34/100\n",
            "42/42 [==============================] - 0s 10ms/step - loss: 0.0299 - val_loss: 100.2921\n",
            "Epoch 35/100\n",
            "42/42 [==============================] - 0s 10ms/step - loss: 0.0297 - val_loss: 99.9409\n",
            "Epoch 36/100\n",
            "42/42 [==============================] - 0s 10ms/step - loss: 0.0181 - val_loss: 99.5355\n",
            "Epoch 37/100\n",
            "42/42 [==============================] - 0s 11ms/step - loss: 0.0230 - val_loss: 99.0867\n",
            "Epoch 38/100\n",
            "42/42 [==============================] - 0s 12ms/step - loss: 0.0357 - val_loss: 98.7361\n",
            "Epoch 39/100\n",
            "42/42 [==============================] - 0s 10ms/step - loss: 0.0167 - val_loss: 98.3394\n",
            "Epoch 40/100\n",
            "42/42 [==============================] - 0s 10ms/step - loss: 0.0279 - val_loss: 97.9694\n",
            "Epoch 41/100\n",
            "42/42 [==============================] - 0s 10ms/step - loss: 0.0205 - val_loss: 97.7132\n",
            "Epoch 42/100\n",
            "42/42 [==============================] - 0s 10ms/step - loss: 0.0165 - val_loss: 97.4002\n",
            "Epoch 43/100\n",
            "42/42 [==============================] - 0s 10ms/step - loss: 0.0264 - val_loss: 97.1439\n",
            "Epoch 44/100\n",
            "42/42 [==============================] - 0s 10ms/step - loss: 0.0237 - val_loss: 96.9510\n",
            "Epoch 45/100\n",
            "42/42 [==============================] - 0s 10ms/step - loss: 0.0243 - val_loss: 96.5333\n",
            "Epoch 46/100\n",
            "42/42 [==============================] - 0s 10ms/step - loss: 0.0162 - val_loss: 96.2626\n",
            "Epoch 47/100\n",
            "42/42 [==============================] - 0s 10ms/step - loss: 0.0163 - val_loss: 96.1258\n",
            "Epoch 48/100\n",
            "42/42 [==============================] - 0s 10ms/step - loss: 0.0185 - val_loss: 95.7877\n",
            "Epoch 49/100\n",
            "42/42 [==============================] - 0s 10ms/step - loss: 0.0191 - val_loss: 95.5416\n",
            "Epoch 50/100\n",
            "42/42 [==============================] - 0s 10ms/step - loss: 0.0164 - val_loss: 95.2501\n",
            "Epoch 51/100\n",
            "42/42 [==============================] - 0s 10ms/step - loss: 0.0138 - val_loss: 95.0682\n",
            "Epoch 52/100\n",
            "42/42 [==============================] - 0s 10ms/step - loss: 0.0197 - val_loss: 94.9177\n",
            "Epoch 53/100\n",
            "42/42 [==============================] - 0s 10ms/step - loss: 0.0153 - val_loss: 94.6626\n",
            "Epoch 54/100\n",
            "42/42 [==============================] - 0s 10ms/step - loss: 0.0149 - val_loss: 94.5481\n",
            "Epoch 55/100\n",
            "42/42 [==============================] - 0s 10ms/step - loss: 0.0162 - val_loss: 94.3723\n",
            "Epoch 56/100\n",
            "42/42 [==============================] - 0s 10ms/step - loss: 0.0230 - val_loss: 94.1285\n",
            "Epoch 57/100\n",
            "42/42 [==============================] - 0s 10ms/step - loss: 0.0123 - val_loss: 93.9274\n",
            "Epoch 58/100\n",
            "42/42 [==============================] - 0s 11ms/step - loss: 0.0138 - val_loss: 93.6819\n",
            "Epoch 59/100\n",
            "42/42 [==============================] - 0s 11ms/step - loss: 0.0201 - val_loss: 93.6010\n",
            "Epoch 60/100\n",
            "42/42 [==============================] - 0s 10ms/step - loss: 0.0180 - val_loss: 93.5808\n",
            "Epoch 61/100\n",
            "42/42 [==============================] - 0s 11ms/step - loss: 0.0135 - val_loss: 93.3146\n",
            "Epoch 62/100\n",
            "42/42 [==============================] - 0s 10ms/step - loss: 0.0106 - val_loss: 93.0426\n",
            "Epoch 63/100\n",
            "42/42 [==============================] - 0s 10ms/step - loss: 0.0136 - val_loss: 92.8492\n",
            "Epoch 64/100\n",
            "42/42 [==============================] - 0s 10ms/step - loss: 0.0178 - val_loss: 92.7299\n",
            "Epoch 65/100\n",
            "42/42 [==============================] - 0s 9ms/step - loss: 0.0168 - val_loss: 92.6976\n",
            "Epoch 66/100\n",
            "42/42 [==============================] - 0s 10ms/step - loss: 0.0094 - val_loss: 92.5845\n",
            "Epoch 67/100\n",
            "42/42 [==============================] - 0s 10ms/step - loss: 0.0153 - val_loss: 92.4309\n",
            "Epoch 68/100\n",
            "42/42 [==============================] - 0s 10ms/step - loss: 0.0095 - val_loss: 92.2104\n",
            "Epoch 69/100\n",
            "42/42 [==============================] - 0s 10ms/step - loss: 0.0068 - val_loss: 92.0259\n",
            "Epoch 70/100\n",
            "42/42 [==============================] - 0s 10ms/step - loss: 0.0075 - val_loss: 91.7958\n",
            "Epoch 71/100\n",
            "42/42 [==============================] - 0s 10ms/step - loss: 0.0081 - val_loss: 91.7507\n",
            "Epoch 72/100\n",
            "42/42 [==============================] - 0s 11ms/step - loss: 0.0126 - val_loss: 91.6474\n",
            "Epoch 73/100\n",
            "42/42 [==============================] - 0s 11ms/step - loss: 0.0094 - val_loss: 91.5634\n",
            "Epoch 74/100\n",
            "42/42 [==============================] - 0s 11ms/step - loss: 0.0051 - val_loss: 91.4616\n",
            "Epoch 75/100\n",
            "42/42 [==============================] - 0s 11ms/step - loss: 0.0047 - val_loss: 91.2711\n",
            "Epoch 76/100\n",
            "42/42 [==============================] - 0s 10ms/step - loss: 0.0073 - val_loss: 91.2760\n",
            "Epoch 77/100\n",
            "42/42 [==============================] - 0s 10ms/step - loss: 0.0088 - val_loss: 91.1798\n",
            "Epoch 78/100\n",
            "42/42 [==============================] - 0s 11ms/step - loss: 0.0082 - val_loss: 91.1227\n",
            "Epoch 79/100\n",
            "42/42 [==============================] - 0s 10ms/step - loss: 0.0048 - val_loss: 91.0154\n",
            "Epoch 80/100\n",
            "42/42 [==============================] - 0s 10ms/step - loss: 0.0054 - val_loss: 90.8313\n",
            "Epoch 81/100\n",
            "42/42 [==============================] - 0s 10ms/step - loss: 0.0022 - val_loss: 90.7130\n",
            "Epoch 82/100\n",
            "42/42 [==============================] - 0s 10ms/step - loss: 0.0028 - val_loss: 90.5422\n",
            "Epoch 83/100\n",
            "42/42 [==============================] - 0s 10ms/step - loss: 0.0025 - val_loss: 90.4600\n",
            "Epoch 84/100\n",
            "42/42 [==============================] - 0s 10ms/step - loss: 0.0016 - val_loss: 90.3922\n",
            "Epoch 85/100\n",
            "42/42 [==============================] - 0s 10ms/step - loss: 0.0026 - val_loss: 90.2609\n",
            "Epoch 86/100\n",
            "42/42 [==============================] - 0s 10ms/step - loss: 0.0059 - val_loss: 90.6084\n",
            "Epoch 87/100\n",
            "42/42 [==============================] - 0s 10ms/step - loss: 0.0126 - val_loss: 90.5192\n",
            "Epoch 88/100\n",
            "42/42 [==============================] - 0s 10ms/step - loss: 0.0089 - val_loss: 90.3433\n",
            "Epoch 89/100\n",
            "42/42 [==============================] - 0s 10ms/step - loss: 0.0018 - val_loss: 90.1251\n",
            "Epoch 90/100\n",
            "42/42 [==============================] - 0s 10ms/step - loss: 0.0022 - val_loss: 90.0849\n",
            "Epoch 91/100\n",
            "42/42 [==============================] - 0s 10ms/step - loss: 0.0022 - val_loss: 89.6475\n",
            "Epoch 92/100\n",
            "42/42 [==============================] - 0s 10ms/step - loss: 0.0015 - val_loss: 89.6316\n",
            "Epoch 93/100\n",
            "42/42 [==============================] - 0s 10ms/step - loss: 0.0018 - val_loss: 89.7057\n",
            "Epoch 94/100\n",
            "42/42 [==============================] - 0s 10ms/step - loss: 0.0015 - val_loss: 89.5237\n",
            "Epoch 95/100\n",
            "42/42 [==============================] - 0s 10ms/step - loss: 0.0012 - val_loss: 89.6130\n",
            "Epoch 96/100\n",
            "42/42 [==============================] - 0s 10ms/step - loss: 0.0023 - val_loss: 89.2666\n",
            "Epoch 97/100\n",
            "42/42 [==============================] - 0s 10ms/step - loss: 0.0017 - val_loss: 88.9355\n",
            "Epoch 98/100\n",
            "42/42 [==============================] - 0s 10ms/step - loss: 0.0028 - val_loss: 88.7752\n",
            "Epoch 99/100\n",
            "42/42 [==============================] - 0s 10ms/step - loss: 0.0046 - val_loss: 89.2569\n",
            "Epoch 100/100\n",
            "42/42 [==============================] - 0s 10ms/step - loss: 0.0098 - val_loss: 89.4783\n"
          ],
          "name": "stdout"
        },
        {
          "output_type": "display_data",
          "data": {
            "image/png": "[encoded data removed]",
            "text/plain": [
              "<Figure size 432x288 with 1 Axes>"
            ]
          },
          "metadata": {
            "tags": [],
            "needs_background": "light"
          }
        }
      ]
    },
    {
      "cell_type": "code",
      "metadata": {
        "colab": {
          "base_uri": "https://localhost:8080/",
          "height": 545
        },
        "id": "Jq3YJAQVrGXE",
        "outputId": "50b5b65e-0f34-4a92-9d3c-2bff0281c662"
      },
      "source": [
        "labels=[i for i in range(len(Y_test))]\n",
        "predicted_prices=model.predict(X_test)\n",
        "plt.scatter(labels,predicted_prices)\n",
        "plt.scatter(labels,Y_test)\n",
        "plt.legend([\"Prdeicted\", \"Actual\"])\n",
        "plt.title(\"Predicted price versus the actual price for Test set\")\n",
        "plt.show()\n",
        "\n",
        "labels=[i for i in range(len(Y))]\n",
        "predicted_prices=model.predict(X)\n",
        "plt.scatter(labels,predicted_prices)\n",
        "plt.scatter(labels,Y)\n",
        "plt.legend([\"Prdeicted\", \"Actual\"])\n",
        "plt.title(\"Predicted price versus the actual price for the whole set\")\n",
        "plt.show()"
      ],
      "execution_count": 13,
      "outputs": [
        {
          "output_type": "display_data",
          "data": {
            "image/png": "[encoded data removed]",
            "text/plain": [
              "<Figure size 432x288 with 1 Axes>"
            ]
          },
          "metadata": {
            "tags": [],
            "needs_background": "light"
          }
        },
        {
          "output_type": "display_data",
          "data": {
            "image/png": "[encoded data removed]",
            "text/plain": [
              "<Figure size 432x288 with 1 Axes>"
            ]
          },
          "metadata": {
            "tags": [],
            "needs_background": "light"
          }
        }
      ]
    }
  ]
}